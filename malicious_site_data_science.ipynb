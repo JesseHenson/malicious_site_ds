{
  "nbformat": 4,
  "nbformat_minor": 0,
  "metadata": {
    "colab": {
      "name": "malicious site data science.ipynb",
      "provenance": [],
      "toc_visible": true,
      "authorship_tag": "ABX9TyNuhpyfDaO7BXYZHLWPkjc9",
      "include_colab_link": true
    },
    "kernelspec": {
      "name": "python3",
      "display_name": "Python 3"
    },
    "language_info": {
      "name": "python"
    }
  },
  "cells": [
    {
      "cell_type": "markdown",
      "metadata": {
        "id": "view-in-github",
        "colab_type": "text"
      },
      "source": [
        "<a href=\"https://colab.research.google.com/github/JesseHenson/malicious_site_ds/blob/main/malicious_site_data_science.ipynb\" target=\"_parent\"><img src=\"https://colab.research.google.com/assets/colab-badge.svg\" alt=\"Open In Colab\"/></a>"
      ]
    },
    {
      "cell_type": "code",
      "metadata": {
        "colab": {
          "base_uri": "https://localhost:8080/"
        },
        "id": "Fo0KqCUDeznL",
        "outputId": "7dbb3859-b8b4-465c-8644-2e940e611176"
      },
      "source": [
        "!unzip archive.zip"
      ],
      "execution_count": null,
      "outputs": [
        {
          "output_type": "stream",
          "text": [
            "Archive:  archive.zip\n",
            "  inflating: malicious_phish.csv     \n"
          ],
          "name": "stdout"
        }
      ]
    },
    {
      "cell_type": "code",
      "metadata": {
        "colab": {
          "base_uri": "https://localhost:8080/",
          "height": 203
        },
        "id": "nz0itag4e8Pi",
        "outputId": "b548f1ac-2002-492a-ce92-56c2b47357eb"
      },
      "source": [
        "import pandas as pd\n",
        "\n",
        "df = pd.read_csv(\"malicious_phish.csv\")\n",
        "df.head()"
      ],
      "execution_count": null,
      "outputs": [
        {
          "output_type": "execute_result",
          "data": {
            "text/html": [
              "<div>\n",
              "<style scoped>\n",
              "    .dataframe tbody tr th:only-of-type {\n",
              "        vertical-align: middle;\n",
              "    }\n",
              "\n",
              "    .dataframe tbody tr th {\n",
              "        vertical-align: top;\n",
              "    }\n",
              "\n",
              "    .dataframe thead th {\n",
              "        text-align: right;\n",
              "    }\n",
              "</style>\n",
              "<table border=\"1\" class=\"dataframe\">\n",
              "  <thead>\n",
              "    <tr style=\"text-align: right;\">\n",
              "      <th></th>\n",
              "      <th>url</th>\n",
              "      <th>type</th>\n",
              "    </tr>\n",
              "  </thead>\n",
              "  <tbody>\n",
              "    <tr>\n",
              "      <th>0</th>\n",
              "      <td>br-icloud.com.br</td>\n",
              "      <td>phishing</td>\n",
              "    </tr>\n",
              "    <tr>\n",
              "      <th>1</th>\n",
              "      <td>mp3raid.com/music/krizz_kaliko.html</td>\n",
              "      <td>benign</td>\n",
              "    </tr>\n",
              "    <tr>\n",
              "      <th>2</th>\n",
              "      <td>bopsecrets.org/rexroth/cr/1.htm</td>\n",
              "      <td>benign</td>\n",
              "    </tr>\n",
              "    <tr>\n",
              "      <th>3</th>\n",
              "      <td>http://www.garage-pirenne.be/index.php?option=...</td>\n",
              "      <td>defacement</td>\n",
              "    </tr>\n",
              "    <tr>\n",
              "      <th>4</th>\n",
              "      <td>http://adventure-nicaragua.net/index.php?optio...</td>\n",
              "      <td>defacement</td>\n",
              "    </tr>\n",
              "  </tbody>\n",
              "</table>\n",
              "</div>"
            ],
            "text/plain": [
              "                                                 url        type\n",
              "0                                   br-icloud.com.br    phishing\n",
              "1                mp3raid.com/music/krizz_kaliko.html      benign\n",
              "2                    bopsecrets.org/rexroth/cr/1.htm      benign\n",
              "3  http://www.garage-pirenne.be/index.php?option=...  defacement\n",
              "4  http://adventure-nicaragua.net/index.php?optio...  defacement"
            ]
          },
          "metadata": {
            "tags": []
          },
          "execution_count": 140
        }
      ]
    },
    {
      "cell_type": "code",
      "metadata": {
        "id": "Y9X1oYG54hFg"
      },
      "source": [
        "df['url_ext_len'] = df.url_ext.apply(lambda x:len(x))\n",
        "not_top_ten_url_ext = df.url_ext.value_counts()[10:].index\n"
      ],
      "execution_count": null,
      "outputs": []
    },
    {
      "cell_type": "code",
      "metadata": {
        "colab": {
          "base_uri": "https://localhost:8080/"
        },
        "id": "YcgJg4KKfJ_K",
        "outputId": "d54a1859-3c07-45f1-9f9f-c234b3e62716"
      },
      "source": [
        "df.type.value_counts()"
      ],
      "execution_count": null,
      "outputs": [
        {
          "output_type": "execute_result",
          "data": {
            "text/plain": [
              "benign        428103\n",
              "defacement     96457\n",
              "phishing       94111\n",
              "malware        32520\n",
              "Name: type, dtype: int64"
            ]
          },
          "metadata": {
            "tags": []
          },
          "execution_count": 9
        }
      ]
    },
    {
      "cell_type": "code",
      "metadata": {
        "colab": {
          "base_uri": "https://localhost:8080/",
          "height": 203
        },
        "id": "Db_mlNCngvqq",
        "outputId": "55347168-145c-4af2-f3f7-bc4015a10a43"
      },
      "source": [
        "df['url_ext'] = df.url.apply(lambda x:x.split('.')[-1])\n",
        "df.head()"
      ],
      "execution_count": null,
      "outputs": [
        {
          "output_type": "execute_result",
          "data": {
            "text/html": [
              "<div>\n",
              "<style scoped>\n",
              "    .dataframe tbody tr th:only-of-type {\n",
              "        vertical-align: middle;\n",
              "    }\n",
              "\n",
              "    .dataframe tbody tr th {\n",
              "        vertical-align: top;\n",
              "    }\n",
              "\n",
              "    .dataframe thead th {\n",
              "        text-align: right;\n",
              "    }\n",
              "</style>\n",
              "<table border=\"1\" class=\"dataframe\">\n",
              "  <thead>\n",
              "    <tr style=\"text-align: right;\">\n",
              "      <th></th>\n",
              "      <th>url</th>\n",
              "      <th>type</th>\n",
              "      <th>url_ext</th>\n",
              "    </tr>\n",
              "  </thead>\n",
              "  <tbody>\n",
              "    <tr>\n",
              "      <th>0</th>\n",
              "      <td>br-icloud.com.br</td>\n",
              "      <td>phishing</td>\n",
              "      <td>br</td>\n",
              "    </tr>\n",
              "    <tr>\n",
              "      <th>1</th>\n",
              "      <td>mp3raid.com/music/krizz_kaliko.html</td>\n",
              "      <td>benign</td>\n",
              "      <td>html</td>\n",
              "    </tr>\n",
              "    <tr>\n",
              "      <th>2</th>\n",
              "      <td>bopsecrets.org/rexroth/cr/1.htm</td>\n",
              "      <td>benign</td>\n",
              "      <td>htm</td>\n",
              "    </tr>\n",
              "    <tr>\n",
              "      <th>3</th>\n",
              "      <td>http://www.garage-pirenne.be/index.php?option=...</td>\n",
              "      <td>defacement</td>\n",
              "      <td>php?option=com_content&amp;view=article&amp;id=70&amp;vsig...</td>\n",
              "    </tr>\n",
              "    <tr>\n",
              "      <th>4</th>\n",
              "      <td>http://adventure-nicaragua.net/index.php?optio...</td>\n",
              "      <td>defacement</td>\n",
              "      <td>php?option=com_mailto&amp;tmpl=component&amp;link=aHR0...</td>\n",
              "    </tr>\n",
              "  </tbody>\n",
              "</table>\n",
              "</div>"
            ],
            "text/plain": [
              "                                                 url  ...                                            url_ext\n",
              "0                                   br-icloud.com.br  ...                                                 br\n",
              "1                mp3raid.com/music/krizz_kaliko.html  ...                                               html\n",
              "2                    bopsecrets.org/rexroth/cr/1.htm  ...                                                htm\n",
              "3  http://www.garage-pirenne.be/index.php?option=...  ...  php?option=com_content&view=article&id=70&vsig...\n",
              "4  http://adventure-nicaragua.net/index.php?optio...  ...  php?option=com_mailto&tmpl=component&link=aHR0...\n",
              "\n",
              "[5 rows x 3 columns]"
            ]
          },
          "metadata": {
            "tags": []
          },
          "execution_count": 142
        }
      ]
    },
    {
      "cell_type": "code",
      "metadata": {
        "colab": {
          "base_uri": "https://localhost:8080/",
          "height": 1000
        },
        "id": "l-OeXwT1htJf",
        "outputId": "e67294c1-868e-4070-fea8-4207d654bf00"
      },
      "source": [
        "df['url_ext_len'] = df.url_ext.apply(lambda x:len(x))\n",
        "top_ten_url_ext = df.url_ext.value_counts()[0:10].index\n",
        "df_top_ten_url_ext = df.loc[df.url_ext.isin(top_ten_url_ext)]\n",
        "df_by_url_type_count = df_top_ten_url_ext.groupby(['url_ext','type']).count()\n",
        "df_by_url_type_count = df_by_url_type_count.sort_values(by=['url_ext','url'],ascending=[False,False])\n",
        "df_by_url_type_count"
      ],
      "execution_count": null,
      "outputs": [
        {
          "output_type": "execute_result",
          "data": {
            "text/html": [
              "<div>\n",
              "<style scoped>\n",
              "    .dataframe tbody tr th:only-of-type {\n",
              "        vertical-align: middle;\n",
              "    }\n",
              "\n",
              "    .dataframe tbody tr th {\n",
              "        vertical-align: top;\n",
              "    }\n",
              "\n",
              "    .dataframe thead th {\n",
              "        text-align: right;\n",
              "    }\n",
              "</style>\n",
              "<table border=\"1\" class=\"dataframe\">\n",
              "  <thead>\n",
              "    <tr style=\"text-align: right;\">\n",
              "      <th></th>\n",
              "      <th></th>\n",
              "      <th>url</th>\n",
              "      <th>url_ext_len</th>\n",
              "      <th>is_safe</th>\n",
              "    </tr>\n",
              "    <tr>\n",
              "      <th>url_ext</th>\n",
              "      <th>type</th>\n",
              "      <th></th>\n",
              "      <th></th>\n",
              "      <th></th>\n",
              "    </tr>\n",
              "  </thead>\n",
              "  <tbody>\n",
              "    <tr>\n",
              "      <th rowspan=\"2\" valign=\"top\">shtml</th>\n",
              "      <th>benign</th>\n",
              "      <td>2218</td>\n",
              "      <td>2218</td>\n",
              "      <td>2218</td>\n",
              "    </tr>\n",
              "    <tr>\n",
              "      <th>phishing</th>\n",
              "      <td>559</td>\n",
              "      <td>559</td>\n",
              "      <td>559</td>\n",
              "    </tr>\n",
              "    <tr>\n",
              "      <th rowspan=\"4\" valign=\"top\">php</th>\n",
              "      <th>benign</th>\n",
              "      <td>9948</td>\n",
              "      <td>9948</td>\n",
              "      <td>9948</td>\n",
              "    </tr>\n",
              "    <tr>\n",
              "      <th>phishing</th>\n",
              "      <td>3365</td>\n",
              "      <td>3365</td>\n",
              "      <td>3365</td>\n",
              "    </tr>\n",
              "    <tr>\n",
              "      <th>defacement</th>\n",
              "      <td>1080</td>\n",
              "      <td>1080</td>\n",
              "      <td>1080</td>\n",
              "    </tr>\n",
              "    <tr>\n",
              "      <th>malware</th>\n",
              "      <td>268</td>\n",
              "      <td>268</td>\n",
              "      <td>268</td>\n",
              "    </tr>\n",
              "    <tr>\n",
              "      <th rowspan=\"2\" valign=\"top\">org/</th>\n",
              "      <th>benign</th>\n",
              "      <td>4163</td>\n",
              "      <td>4163</td>\n",
              "      <td>4163</td>\n",
              "    </tr>\n",
              "    <tr>\n",
              "      <th>phishing</th>\n",
              "      <td>15</td>\n",
              "      <td>15</td>\n",
              "      <td>15</td>\n",
              "    </tr>\n",
              "    <tr>\n",
              "      <th rowspan=\"2\" valign=\"top\">m</th>\n",
              "      <th>malware</th>\n",
              "      <td>4100</td>\n",
              "      <td>4100</td>\n",
              "      <td>4100</td>\n",
              "    </tr>\n",
              "    <tr>\n",
              "      <th>benign</th>\n",
              "      <td>1</td>\n",
              "      <td>1</td>\n",
              "      <td>1</td>\n",
              "    </tr>\n",
              "    <tr>\n",
              "      <th rowspan=\"4\" valign=\"top\">html</th>\n",
              "      <th>benign</th>\n",
              "      <td>61109</td>\n",
              "      <td>61109</td>\n",
              "      <td>61109</td>\n",
              "    </tr>\n",
              "    <tr>\n",
              "      <th>defacement</th>\n",
              "      <td>20332</td>\n",
              "      <td>20332</td>\n",
              "      <td>20332</td>\n",
              "    </tr>\n",
              "    <tr>\n",
              "      <th>phishing</th>\n",
              "      <td>14334</td>\n",
              "      <td>14334</td>\n",
              "      <td>14334</td>\n",
              "    </tr>\n",
              "    <tr>\n",
              "      <th>malware</th>\n",
              "      <td>347</td>\n",
              "      <td>347</td>\n",
              "      <td>347</td>\n",
              "    </tr>\n",
              "    <tr>\n",
              "      <th rowspan=\"4\" valign=\"top\">htm</th>\n",
              "      <th>benign</th>\n",
              "      <td>23644</td>\n",
              "      <td>23644</td>\n",
              "      <td>23644</td>\n",
              "    </tr>\n",
              "    <tr>\n",
              "      <th>phishing</th>\n",
              "      <td>6188</td>\n",
              "      <td>6188</td>\n",
              "      <td>6188</td>\n",
              "    </tr>\n",
              "    <tr>\n",
              "      <th>defacement</th>\n",
              "      <td>490</td>\n",
              "      <td>490</td>\n",
              "      <td>490</td>\n",
              "    </tr>\n",
              "    <tr>\n",
              "      <th>malware</th>\n",
              "      <td>6</td>\n",
              "      <td>6</td>\n",
              "      <td>6</td>\n",
              "    </tr>\n",
              "    <tr>\n",
              "      <th rowspan=\"3\" valign=\"top\">exe</th>\n",
              "      <th>malware</th>\n",
              "      <td>5874</td>\n",
              "      <td>5874</td>\n",
              "      <td>5874</td>\n",
              "    </tr>\n",
              "    <tr>\n",
              "      <th>benign</th>\n",
              "      <td>3</td>\n",
              "      <td>3</td>\n",
              "      <td>3</td>\n",
              "    </tr>\n",
              "    <tr>\n",
              "      <th>phishing</th>\n",
              "      <td>3</td>\n",
              "      <td>3</td>\n",
              "      <td>3</td>\n",
              "    </tr>\n",
              "    <tr>\n",
              "      <th rowspan=\"3\" valign=\"top\">com/</th>\n",
              "      <th>benign</th>\n",
              "      <td>33733</td>\n",
              "      <td>33733</td>\n",
              "      <td>33733</td>\n",
              "    </tr>\n",
              "    <tr>\n",
              "      <th>phishing</th>\n",
              "      <td>1129</td>\n",
              "      <td>1129</td>\n",
              "      <td>1129</td>\n",
              "    </tr>\n",
              "    <tr>\n",
              "      <th>malware</th>\n",
              "      <td>4</td>\n",
              "      <td>4</td>\n",
              "      <td>4</td>\n",
              "    </tr>\n",
              "    <tr>\n",
              "      <th rowspan=\"4\" valign=\"top\">com</th>\n",
              "      <th>phishing</th>\n",
              "      <td>11590</td>\n",
              "      <td>11590</td>\n",
              "      <td>11590</td>\n",
              "    </tr>\n",
              "    <tr>\n",
              "      <th>benign</th>\n",
              "      <td>414</td>\n",
              "      <td>414</td>\n",
              "      <td>414</td>\n",
              "    </tr>\n",
              "    <tr>\n",
              "      <th>malware</th>\n",
              "      <td>358</td>\n",
              "      <td>358</td>\n",
              "      <td>358</td>\n",
              "    </tr>\n",
              "    <tr>\n",
              "      <th>defacement</th>\n",
              "      <td>2</td>\n",
              "      <td>2</td>\n",
              "      <td>2</td>\n",
              "    </tr>\n",
              "    <tr>\n",
              "      <th rowspan=\"4\" valign=\"top\">aspx</th>\n",
              "      <th>benign</th>\n",
              "      <td>4992</td>\n",
              "      <td>4992</td>\n",
              "      <td>4992</td>\n",
              "    </tr>\n",
              "    <tr>\n",
              "      <th>phishing</th>\n",
              "      <td>393</td>\n",
              "      <td>393</td>\n",
              "      <td>393</td>\n",
              "    </tr>\n",
              "    <tr>\n",
              "      <th>defacement</th>\n",
              "      <td>195</td>\n",
              "      <td>195</td>\n",
              "      <td>195</td>\n",
              "    </tr>\n",
              "    <tr>\n",
              "      <th>malware</th>\n",
              "      <td>2</td>\n",
              "      <td>2</td>\n",
              "      <td>2</td>\n",
              "    </tr>\n",
              "  </tbody>\n",
              "</table>\n",
              "</div>"
            ],
            "text/plain": [
              "                      url  url_ext_len  is_safe\n",
              "url_ext type                                   \n",
              "shtml   benign       2218         2218     2218\n",
              "        phishing      559          559      559\n",
              "php     benign       9948         9948     9948\n",
              "        phishing     3365         3365     3365\n",
              "        defacement   1080         1080     1080\n",
              "        malware       268          268      268\n",
              "org/    benign       4163         4163     4163\n",
              "        phishing       15           15       15\n",
              "m       malware      4100         4100     4100\n",
              "        benign          1            1        1\n",
              "html    benign      61109        61109    61109\n",
              "        defacement  20332        20332    20332\n",
              "        phishing    14334        14334    14334\n",
              "        malware       347          347      347\n",
              "htm     benign      23644        23644    23644\n",
              "        phishing     6188         6188     6188\n",
              "        defacement    490          490      490\n",
              "        malware         6            6        6\n",
              "exe     malware      5874         5874     5874\n",
              "        benign          3            3        3\n",
              "        phishing        3            3        3\n",
              "com/    benign      33733        33733    33733\n",
              "        phishing     1129         1129     1129\n",
              "        malware         4            4        4\n",
              "com     phishing    11590        11590    11590\n",
              "        benign        414          414      414\n",
              "        malware       358          358      358\n",
              "        defacement      2            2        2\n",
              "aspx    benign       4992         4992     4992\n",
              "        phishing      393          393      393\n",
              "        defacement    195          195      195\n",
              "        malware         2            2        2"
            ]
          },
          "metadata": {
            "tags": []
          },
          "execution_count": 145
        }
      ]
    },
    {
      "cell_type": "code",
      "metadata": {
        "colab": {
          "base_uri": "https://localhost:8080/",
          "height": 1000
        },
        "id": "u5xkSI1biOEU",
        "outputId": "39b2df7e-bb9b-4aa9-aa4d-9c5ba37f1c09"
      },
      "source": [
        "df_by_type_url_count = df_top_ten_url_ext.groupby(['type','url_ext']).count()\n",
        "df_by_type_url_count = df_by_type_url_count.sort_values(by=['type','url'],ascending=[False,False])\n",
        "df_by_type_url_count"
      ],
      "execution_count": null,
      "outputs": [
        {
          "output_type": "execute_result",
          "data": {
            "text/html": [
              "<div>\n",
              "<style scoped>\n",
              "    .dataframe tbody tr th:only-of-type {\n",
              "        vertical-align: middle;\n",
              "    }\n",
              "\n",
              "    .dataframe tbody tr th {\n",
              "        vertical-align: top;\n",
              "    }\n",
              "\n",
              "    .dataframe thead th {\n",
              "        text-align: right;\n",
              "    }\n",
              "</style>\n",
              "<table border=\"1\" class=\"dataframe\">\n",
              "  <thead>\n",
              "    <tr style=\"text-align: right;\">\n",
              "      <th></th>\n",
              "      <th></th>\n",
              "      <th>url</th>\n",
              "      <th>url_ext_len</th>\n",
              "      <th>is_safe</th>\n",
              "    </tr>\n",
              "    <tr>\n",
              "      <th>type</th>\n",
              "      <th>url_ext</th>\n",
              "      <th></th>\n",
              "      <th></th>\n",
              "      <th></th>\n",
              "    </tr>\n",
              "  </thead>\n",
              "  <tbody>\n",
              "    <tr>\n",
              "      <th rowspan=\"9\" valign=\"top\">phishing</th>\n",
              "      <th>html</th>\n",
              "      <td>14334</td>\n",
              "      <td>14334</td>\n",
              "      <td>14334</td>\n",
              "    </tr>\n",
              "    <tr>\n",
              "      <th>com</th>\n",
              "      <td>11590</td>\n",
              "      <td>11590</td>\n",
              "      <td>11590</td>\n",
              "    </tr>\n",
              "    <tr>\n",
              "      <th>htm</th>\n",
              "      <td>6188</td>\n",
              "      <td>6188</td>\n",
              "      <td>6188</td>\n",
              "    </tr>\n",
              "    <tr>\n",
              "      <th>php</th>\n",
              "      <td>3365</td>\n",
              "      <td>3365</td>\n",
              "      <td>3365</td>\n",
              "    </tr>\n",
              "    <tr>\n",
              "      <th>com/</th>\n",
              "      <td>1129</td>\n",
              "      <td>1129</td>\n",
              "      <td>1129</td>\n",
              "    </tr>\n",
              "    <tr>\n",
              "      <th>shtml</th>\n",
              "      <td>559</td>\n",
              "      <td>559</td>\n",
              "      <td>559</td>\n",
              "    </tr>\n",
              "    <tr>\n",
              "      <th>aspx</th>\n",
              "      <td>393</td>\n",
              "      <td>393</td>\n",
              "      <td>393</td>\n",
              "    </tr>\n",
              "    <tr>\n",
              "      <th>org/</th>\n",
              "      <td>15</td>\n",
              "      <td>15</td>\n",
              "      <td>15</td>\n",
              "    </tr>\n",
              "    <tr>\n",
              "      <th>exe</th>\n",
              "      <td>3</td>\n",
              "      <td>3</td>\n",
              "      <td>3</td>\n",
              "    </tr>\n",
              "    <tr>\n",
              "      <th rowspan=\"8\" valign=\"top\">malware</th>\n",
              "      <th>exe</th>\n",
              "      <td>5874</td>\n",
              "      <td>5874</td>\n",
              "      <td>5874</td>\n",
              "    </tr>\n",
              "    <tr>\n",
              "      <th>m</th>\n",
              "      <td>4100</td>\n",
              "      <td>4100</td>\n",
              "      <td>4100</td>\n",
              "    </tr>\n",
              "    <tr>\n",
              "      <th>com</th>\n",
              "      <td>358</td>\n",
              "      <td>358</td>\n",
              "      <td>358</td>\n",
              "    </tr>\n",
              "    <tr>\n",
              "      <th>html</th>\n",
              "      <td>347</td>\n",
              "      <td>347</td>\n",
              "      <td>347</td>\n",
              "    </tr>\n",
              "    <tr>\n",
              "      <th>php</th>\n",
              "      <td>268</td>\n",
              "      <td>268</td>\n",
              "      <td>268</td>\n",
              "    </tr>\n",
              "    <tr>\n",
              "      <th>htm</th>\n",
              "      <td>6</td>\n",
              "      <td>6</td>\n",
              "      <td>6</td>\n",
              "    </tr>\n",
              "    <tr>\n",
              "      <th>com/</th>\n",
              "      <td>4</td>\n",
              "      <td>4</td>\n",
              "      <td>4</td>\n",
              "    </tr>\n",
              "    <tr>\n",
              "      <th>aspx</th>\n",
              "      <td>2</td>\n",
              "      <td>2</td>\n",
              "      <td>2</td>\n",
              "    </tr>\n",
              "    <tr>\n",
              "      <th rowspan=\"5\" valign=\"top\">defacement</th>\n",
              "      <th>html</th>\n",
              "      <td>20332</td>\n",
              "      <td>20332</td>\n",
              "      <td>20332</td>\n",
              "    </tr>\n",
              "    <tr>\n",
              "      <th>php</th>\n",
              "      <td>1080</td>\n",
              "      <td>1080</td>\n",
              "      <td>1080</td>\n",
              "    </tr>\n",
              "    <tr>\n",
              "      <th>htm</th>\n",
              "      <td>490</td>\n",
              "      <td>490</td>\n",
              "      <td>490</td>\n",
              "    </tr>\n",
              "    <tr>\n",
              "      <th>aspx</th>\n",
              "      <td>195</td>\n",
              "      <td>195</td>\n",
              "      <td>195</td>\n",
              "    </tr>\n",
              "    <tr>\n",
              "      <th>com</th>\n",
              "      <td>2</td>\n",
              "      <td>2</td>\n",
              "      <td>2</td>\n",
              "    </tr>\n",
              "    <tr>\n",
              "      <th rowspan=\"10\" valign=\"top\">benign</th>\n",
              "      <th>html</th>\n",
              "      <td>61109</td>\n",
              "      <td>61109</td>\n",
              "      <td>61109</td>\n",
              "    </tr>\n",
              "    <tr>\n",
              "      <th>com/</th>\n",
              "      <td>33733</td>\n",
              "      <td>33733</td>\n",
              "      <td>33733</td>\n",
              "    </tr>\n",
              "    <tr>\n",
              "      <th>htm</th>\n",
              "      <td>23644</td>\n",
              "      <td>23644</td>\n",
              "      <td>23644</td>\n",
              "    </tr>\n",
              "    <tr>\n",
              "      <th>php</th>\n",
              "      <td>9948</td>\n",
              "      <td>9948</td>\n",
              "      <td>9948</td>\n",
              "    </tr>\n",
              "    <tr>\n",
              "      <th>aspx</th>\n",
              "      <td>4992</td>\n",
              "      <td>4992</td>\n",
              "      <td>4992</td>\n",
              "    </tr>\n",
              "    <tr>\n",
              "      <th>org/</th>\n",
              "      <td>4163</td>\n",
              "      <td>4163</td>\n",
              "      <td>4163</td>\n",
              "    </tr>\n",
              "    <tr>\n",
              "      <th>shtml</th>\n",
              "      <td>2218</td>\n",
              "      <td>2218</td>\n",
              "      <td>2218</td>\n",
              "    </tr>\n",
              "    <tr>\n",
              "      <th>com</th>\n",
              "      <td>414</td>\n",
              "      <td>414</td>\n",
              "      <td>414</td>\n",
              "    </tr>\n",
              "    <tr>\n",
              "      <th>exe</th>\n",
              "      <td>3</td>\n",
              "      <td>3</td>\n",
              "      <td>3</td>\n",
              "    </tr>\n",
              "    <tr>\n",
              "      <th>m</th>\n",
              "      <td>1</td>\n",
              "      <td>1</td>\n",
              "      <td>1</td>\n",
              "    </tr>\n",
              "  </tbody>\n",
              "</table>\n",
              "</div>"
            ],
            "text/plain": [
              "                      url  url_ext_len  is_safe\n",
              "type       url_ext                             \n",
              "phishing   html     14334        14334    14334\n",
              "           com      11590        11590    11590\n",
              "           htm       6188         6188     6188\n",
              "           php       3365         3365     3365\n",
              "           com/      1129         1129     1129\n",
              "           shtml      559          559      559\n",
              "           aspx       393          393      393\n",
              "           org/        15           15       15\n",
              "           exe          3            3        3\n",
              "malware    exe       5874         5874     5874\n",
              "           m         4100         4100     4100\n",
              "           com        358          358      358\n",
              "           html       347          347      347\n",
              "           php        268          268      268\n",
              "           htm          6            6        6\n",
              "           com/         4            4        4\n",
              "           aspx         2            2        2\n",
              "defacement html     20332        20332    20332\n",
              "           php       1080         1080     1080\n",
              "           htm        490          490      490\n",
              "           aspx       195          195      195\n",
              "           com          2            2        2\n",
              "benign     html     61109        61109    61109\n",
              "           com/     33733        33733    33733\n",
              "           htm      23644        23644    23644\n",
              "           php       9948         9948     9948\n",
              "           aspx      4992         4992     4992\n",
              "           org/      4163         4163     4163\n",
              "           shtml     2218         2218     2218\n",
              "           com        414          414      414\n",
              "           exe          3            3        3\n",
              "           m            1            1        1"
            ]
          },
          "metadata": {
            "tags": []
          },
          "execution_count": 96
        }
      ]
    },
    {
      "cell_type": "code",
      "metadata": {
        "colab": {
          "base_uri": "https://localhost:8080/"
        },
        "id": "JGVfk12ui1vy",
        "outputId": "6593f5c4-dd95-4d92-c319-aa404ae14bd3"
      },
      "source": [
        "df['is_safe'] = df.type.apply(lambda x:1 if x == 'benign' else 0)\n",
        "df.is_safe.value_counts()"
      ],
      "execution_count": null,
      "outputs": [
        {
          "output_type": "execute_result",
          "data": {
            "text/plain": [
              "1    428103\n",
              "0    223088\n",
              "Name: is_safe, dtype: int64"
            ]
          },
          "metadata": {
            "tags": []
          },
          "execution_count": 144
        }
      ]
    },
    {
      "cell_type": "code",
      "metadata": {
        "colab": {
          "base_uri": "https://localhost:8080/",
          "height": 388
        },
        "id": "y1DZsFi_ja8k",
        "outputId": "dd7ec6e9-6462-478a-e4ea-771c5a8e065b"
      },
      "source": [
        "df_by_safe_url_count = df_top_ten_url_ext.groupby(['is_safe','url_ext']).count()\n",
        "df_by_safe_url_count = df_by_safe_url_count.sort_values(by=['is_safe','url'],ascending=[False,False])\n",
        "df_by_safe_url_count.xs(1)"
      ],
      "execution_count": null,
      "outputs": [
        {
          "output_type": "execute_result",
          "data": {
            "text/html": [
              "<div>\n",
              "<style scoped>\n",
              "    .dataframe tbody tr th:only-of-type {\n",
              "        vertical-align: middle;\n",
              "    }\n",
              "\n",
              "    .dataframe tbody tr th {\n",
              "        vertical-align: top;\n",
              "    }\n",
              "\n",
              "    .dataframe thead th {\n",
              "        text-align: right;\n",
              "    }\n",
              "</style>\n",
              "<table border=\"1\" class=\"dataframe\">\n",
              "  <thead>\n",
              "    <tr style=\"text-align: right;\">\n",
              "      <th></th>\n",
              "      <th>url</th>\n",
              "      <th>type</th>\n",
              "      <th>url_ext_len</th>\n",
              "    </tr>\n",
              "    <tr>\n",
              "      <th>url_ext</th>\n",
              "      <th></th>\n",
              "      <th></th>\n",
              "      <th></th>\n",
              "    </tr>\n",
              "  </thead>\n",
              "  <tbody>\n",
              "    <tr>\n",
              "      <th>html</th>\n",
              "      <td>61109</td>\n",
              "      <td>61109</td>\n",
              "      <td>61109</td>\n",
              "    </tr>\n",
              "    <tr>\n",
              "      <th>com/</th>\n",
              "      <td>33733</td>\n",
              "      <td>33733</td>\n",
              "      <td>33733</td>\n",
              "    </tr>\n",
              "    <tr>\n",
              "      <th>htm</th>\n",
              "      <td>23644</td>\n",
              "      <td>23644</td>\n",
              "      <td>23644</td>\n",
              "    </tr>\n",
              "    <tr>\n",
              "      <th>php</th>\n",
              "      <td>9948</td>\n",
              "      <td>9948</td>\n",
              "      <td>9948</td>\n",
              "    </tr>\n",
              "    <tr>\n",
              "      <th>aspx</th>\n",
              "      <td>4992</td>\n",
              "      <td>4992</td>\n",
              "      <td>4992</td>\n",
              "    </tr>\n",
              "    <tr>\n",
              "      <th>org/</th>\n",
              "      <td>4163</td>\n",
              "      <td>4163</td>\n",
              "      <td>4163</td>\n",
              "    </tr>\n",
              "    <tr>\n",
              "      <th>shtml</th>\n",
              "      <td>2218</td>\n",
              "      <td>2218</td>\n",
              "      <td>2218</td>\n",
              "    </tr>\n",
              "    <tr>\n",
              "      <th>com</th>\n",
              "      <td>414</td>\n",
              "      <td>414</td>\n",
              "      <td>414</td>\n",
              "    </tr>\n",
              "    <tr>\n",
              "      <th>exe</th>\n",
              "      <td>3</td>\n",
              "      <td>3</td>\n",
              "      <td>3</td>\n",
              "    </tr>\n",
              "    <tr>\n",
              "      <th>m</th>\n",
              "      <td>1</td>\n",
              "      <td>1</td>\n",
              "      <td>1</td>\n",
              "    </tr>\n",
              "  </tbody>\n",
              "</table>\n",
              "</div>"
            ],
            "text/plain": [
              "           url   type  url_ext_len\n",
              "url_ext                           \n",
              "html     61109  61109        61109\n",
              "com/     33733  33733        33733\n",
              "htm      23644  23644        23644\n",
              "php       9948   9948         9948\n",
              "aspx      4992   4992         4992\n",
              "org/      4163   4163         4163\n",
              "shtml     2218   2218         2218\n",
              "com        414    414          414\n",
              "exe          3      3            3\n",
              "m            1      1            1"
            ]
          },
          "metadata": {
            "tags": []
          },
          "execution_count": 126
        }
      ]
    },
    {
      "cell_type": "code",
      "metadata": {
        "colab": {
          "base_uri": "https://localhost:8080/",
          "height": 286
        },
        "id": "4HHRhSibjgIP",
        "outputId": "86cf3051-6e6f-4027-d25f-b62546b96299"
      },
      "source": [
        "import matplotlib.pyplot as plt\n",
        "\n",
        "values_benign = df_by_safe_url_count.xs(1)\n",
        "values_unsafe = df_by_safe_url_count.xs(0)\n",
        "ax1 = plt.bar(values_benign.index,values_benign['url'])\n",
        "ax1.set_label('safe')\n",
        "ax2 = plt.bar(values_unsafe.index,values_unsafe['url'])\n",
        "ax2.set_label('unsafe')\n",
        "plt.legend()"
      ],
      "execution_count": null,
      "outputs": [
        {
          "output_type": "execute_result",
          "data": {
            "text/plain": [
              "<matplotlib.legend.Legend at 0x7f655cca5fd0>"
            ]
          },
          "metadata": {
            "tags": []
          },
          "execution_count": 127
        },
        {
          "output_type": "display_data",
          "data": {
            "image/png": "[encoded data removed]",
            "text/plain": [
              "<Figure size 432x288 with 1 Axes>"
            ]
          },
          "metadata": {
            "tags": []
          }
        }
      ]
    },
    {
      "cell_type": "code",
      "metadata": {
        "colab": {
          "base_uri": "https://localhost:8080/",
          "height": 388
        },
        "id": "0Z6kdRYMzc9r",
        "outputId": "1b7e0433-6839-420a-e03c-e4765b7e2ab3"
      },
      "source": [
        "df_by_url_unsafe_count = df_top_ten_url_ext.loc[df.is_safe==0].groupby(['url_ext']).count()\n",
        "df_by_url_unsafe_count = df_by_url_unsafe_count.sort_values(by='url',ascending=False)\n",
        "df_by_url_unsafe_count"
      ],
      "execution_count": null,
      "outputs": [
        {
          "output_type": "execute_result",
          "data": {
            "text/html": [
              "<div>\n",
              "<style scoped>\n",
              "    .dataframe tbody tr th:only-of-type {\n",
              "        vertical-align: middle;\n",
              "    }\n",
              "\n",
              "    .dataframe tbody tr th {\n",
              "        vertical-align: top;\n",
              "    }\n",
              "\n",
              "    .dataframe thead th {\n",
              "        text-align: right;\n",
              "    }\n",
              "</style>\n",
              "<table border=\"1\" class=\"dataframe\">\n",
              "  <thead>\n",
              "    <tr style=\"text-align: right;\">\n",
              "      <th></th>\n",
              "      <th>url</th>\n",
              "      <th>type</th>\n",
              "      <th>url_ext_len</th>\n",
              "      <th>is_safe</th>\n",
              "    </tr>\n",
              "    <tr>\n",
              "      <th>url_ext</th>\n",
              "      <th></th>\n",
              "      <th></th>\n",
              "      <th></th>\n",
              "      <th></th>\n",
              "    </tr>\n",
              "  </thead>\n",
              "  <tbody>\n",
              "    <tr>\n",
              "      <th>html</th>\n",
              "      <td>35013</td>\n",
              "      <td>35013</td>\n",
              "      <td>35013</td>\n",
              "      <td>35013</td>\n",
              "    </tr>\n",
              "    <tr>\n",
              "      <th>com</th>\n",
              "      <td>11950</td>\n",
              "      <td>11950</td>\n",
              "      <td>11950</td>\n",
              "      <td>11950</td>\n",
              "    </tr>\n",
              "    <tr>\n",
              "      <th>htm</th>\n",
              "      <td>6684</td>\n",
              "      <td>6684</td>\n",
              "      <td>6684</td>\n",
              "      <td>6684</td>\n",
              "    </tr>\n",
              "    <tr>\n",
              "      <th>exe</th>\n",
              "      <td>5877</td>\n",
              "      <td>5877</td>\n",
              "      <td>5877</td>\n",
              "      <td>5877</td>\n",
              "    </tr>\n",
              "    <tr>\n",
              "      <th>php</th>\n",
              "      <td>4713</td>\n",
              "      <td>4713</td>\n",
              "      <td>4713</td>\n",
              "      <td>4713</td>\n",
              "    </tr>\n",
              "    <tr>\n",
              "      <th>m</th>\n",
              "      <td>4100</td>\n",
              "      <td>4100</td>\n",
              "      <td>4100</td>\n",
              "      <td>4100</td>\n",
              "    </tr>\n",
              "    <tr>\n",
              "      <th>com/</th>\n",
              "      <td>1133</td>\n",
              "      <td>1133</td>\n",
              "      <td>1133</td>\n",
              "      <td>1133</td>\n",
              "    </tr>\n",
              "    <tr>\n",
              "      <th>aspx</th>\n",
              "      <td>590</td>\n",
              "      <td>590</td>\n",
              "      <td>590</td>\n",
              "      <td>590</td>\n",
              "    </tr>\n",
              "    <tr>\n",
              "      <th>shtml</th>\n",
              "      <td>559</td>\n",
              "      <td>559</td>\n",
              "      <td>559</td>\n",
              "      <td>559</td>\n",
              "    </tr>\n",
              "    <tr>\n",
              "      <th>org/</th>\n",
              "      <td>15</td>\n",
              "      <td>15</td>\n",
              "      <td>15</td>\n",
              "      <td>15</td>\n",
              "    </tr>\n",
              "  </tbody>\n",
              "</table>\n",
              "</div>"
            ],
            "text/plain": [
              "           url   type  url_ext_len  is_safe\n",
              "url_ext                                    \n",
              "html     35013  35013        35013    35013\n",
              "com      11950  11950        11950    11950\n",
              "htm       6684   6684         6684     6684\n",
              "exe       5877   5877         5877     5877\n",
              "php       4713   4713         4713     4713\n",
              "m         4100   4100         4100     4100\n",
              "com/      1133   1133         1133     1133\n",
              "aspx       590    590          590      590\n",
              "shtml      559    559          559      559\n",
              "org/        15     15           15       15"
            ]
          },
          "metadata": {
            "tags": []
          },
          "execution_count": 138
        }
      ]
    },
    {
      "cell_type": "code",
      "metadata": {
        "colab": {
          "base_uri": "https://localhost:8080/",
          "height": 286
        },
        "id": "uLCWJhPK1sSm",
        "outputId": "1bed228f-def9-4c79-d9f9-bd89375d3547"
      },
      "source": [
        "import matplotlib.pyplot as plt\n",
        "\n",
        "plt.bar(df_by_url_unsafe_count.index,df_by_url_unsafe_count['url'])\n"
      ],
      "execution_count": null,
      "outputs": [
        {
          "output_type": "execute_result",
          "data": {
            "text/plain": [
              "<BarContainer object of 10 artists>"
            ]
          },
          "metadata": {
            "tags": []
          },
          "execution_count": 139
        },
        {
          "output_type": "display_data",
          "data": {
            "image/png": "[encoded data removed]",
            "text/plain": [
              "<Figure size 432x288 with 1 Axes>"
            ]
          },
          "metadata": {
            "tags": []
          }
        }
      ]
    },
    {
      "cell_type": "code",
      "metadata": {
        "colab": {
          "base_uri": "https://localhost:8080/",
          "height": 203
        },
        "id": "0uI4Agiz3Frh",
        "outputId": "019f8fc5-7e66-4349-c10d-f83789b661d2"
      },
      "source": [
        "not_top_ten_url_ext = df.url_ext.value_counts()[10:].index\n",
        "df_not_top_ten = df.loc[df.url_ext.isin(not_top_ten_url_ext)]\n",
        "df_by_url_type_count = df_not_top_ten.groupby(['type']).count()\n",
        "df_by_url_type_count = df_by_url_type_count.sort_values(by=['url_ext','url'],ascending=[False,False])\n",
        "df_by_url_type_count"
      ],
      "execution_count": null,
      "outputs": [
        {
          "output_type": "execute_result",
          "data": {
            "text/html": [
              "<div>\n",
              "<style scoped>\n",
              "    .dataframe tbody tr th:only-of-type {\n",
              "        vertical-align: middle;\n",
              "    }\n",
              "\n",
              "    .dataframe tbody tr th {\n",
              "        vertical-align: top;\n",
              "    }\n",
              "\n",
              "    .dataframe thead th {\n",
              "        text-align: right;\n",
              "    }\n",
              "</style>\n",
              "<table border=\"1\" class=\"dataframe\">\n",
              "  <thead>\n",
              "    <tr style=\"text-align: right;\">\n",
              "      <th></th>\n",
              "      <th>url</th>\n",
              "      <th>url_ext</th>\n",
              "      <th>url_ext_len</th>\n",
              "      <th>is_safe</th>\n",
              "    </tr>\n",
              "    <tr>\n",
              "      <th>type</th>\n",
              "      <th></th>\n",
              "      <th></th>\n",
              "      <th></th>\n",
              "      <th></th>\n",
              "    </tr>\n",
              "  </thead>\n",
              "  <tbody>\n",
              "    <tr>\n",
              "      <th>benign</th>\n",
              "      <td>287878</td>\n",
              "      <td>287878</td>\n",
              "      <td>287878</td>\n",
              "      <td>287878</td>\n",
              "    </tr>\n",
              "    <tr>\n",
              "      <th>defacement</th>\n",
              "      <td>74358</td>\n",
              "      <td>74358</td>\n",
              "      <td>74358</td>\n",
              "      <td>74358</td>\n",
              "    </tr>\n",
              "    <tr>\n",
              "      <th>phishing</th>\n",
              "      <td>56535</td>\n",
              "      <td>56535</td>\n",
              "      <td>56535</td>\n",
              "      <td>56535</td>\n",
              "    </tr>\n",
              "    <tr>\n",
              "      <th>malware</th>\n",
              "      <td>21561</td>\n",
              "      <td>21561</td>\n",
              "      <td>21561</td>\n",
              "      <td>21561</td>\n",
              "    </tr>\n",
              "  </tbody>\n",
              "</table>\n",
              "</div>"
            ],
            "text/plain": [
              "               url  url_ext  url_ext_len  is_safe\n",
              "type                                             \n",
              "benign      287878   287878       287878   287878\n",
              "defacement   74358    74358        74358    74358\n",
              "phishing     56535    56535        56535    56535\n",
              "malware      21561    21561        21561    21561"
            ]
          },
          "metadata": {
            "tags": []
          },
          "execution_count": 147
        }
      ]
    },
    {
      "cell_type": "code",
      "metadata": {
        "colab": {
          "base_uri": "https://localhost:8080/"
        },
        "id": "8-fOOQ_37weR",
        "outputId": "e37a1cdc-65b4-4248-9d62-34ab3a502ce1"
      },
      "source": [
        "df_top_ten_url_ext.index"
      ],
      "execution_count": null,
      "outputs": [
        {
          "output_type": "execute_result",
          "data": {
            "text/plain": [
              "Int64Index([     1,      2,      5,     10,     16,     19,     20,     23,\n",
              "                31,     39,\n",
              "            ...\n",
              "            651164, 651166, 651167, 651170, 651173, 651176, 651179, 651182,\n",
              "            651184, 651186],\n",
              "           dtype='int64', length=210859)"
            ]
          },
          "metadata": {
            "tags": []
          },
          "execution_count": 154
        }
      ]
    },
    {
      "cell_type": "code",
      "metadata": {
        "colab": {
          "base_uri": "https://localhost:8080/",
          "height": 223
        },
        "id": "r_bgd6Pk5q6o",
        "outputId": "9c16f3d9-2fbe-4a42-e4ed-bdd32c33d4d3"
      },
      "source": [
        "for url_ext in top_ten_url_ext:\n",
        "  df[f'includes_{url_ext}'] = df.url_ext.apply(lambda x:1 if url_ext in x else 0)\n",
        "df_by_type = df.groupby('type').sum()\n",
        "df_by_type"
      ],
      "execution_count": null,
      "outputs": [
        {
          "output_type": "execute_result",
          "data": {
            "text/html": [
              "<div>\n",
              "<style scoped>\n",
              "    .dataframe tbody tr th:only-of-type {\n",
              "        vertical-align: middle;\n",
              "    }\n",
              "\n",
              "    .dataframe tbody tr th {\n",
              "        vertical-align: top;\n",
              "    }\n",
              "\n",
              "    .dataframe thead th {\n",
              "        text-align: right;\n",
              "    }\n",
              "</style>\n",
              "<table border=\"1\" class=\"dataframe\">\n",
              "  <thead>\n",
              "    <tr style=\"text-align: right;\">\n",
              "      <th></th>\n",
              "      <th>url_ext_len</th>\n",
              "      <th>is_safe</th>\n",
              "      <th>includes_html</th>\n",
              "      <th>includes_url</th>\n",
              "      <th>includes_type</th>\n",
              "      <th>includes_url_ext</th>\n",
              "      <th>includes_url_ext_len</th>\n",
              "      <th>includes_is_safe</th>\n",
              "      <th>includes_com/</th>\n",
              "      <th>includes_htm</th>\n",
              "      <th>includes_php</th>\n",
              "      <th>includes_com</th>\n",
              "      <th>includes_exe</th>\n",
              "      <th>includes_aspx</th>\n",
              "      <th>includes_org/</th>\n",
              "      <th>includes_m</th>\n",
              "      <th>includes_shtml</th>\n",
              "    </tr>\n",
              "    <tr>\n",
              "      <th>type</th>\n",
              "      <th></th>\n",
              "      <th></th>\n",
              "      <th></th>\n",
              "      <th></th>\n",
              "      <th></th>\n",
              "      <th></th>\n",
              "      <th></th>\n",
              "      <th></th>\n",
              "      <th></th>\n",
              "      <th></th>\n",
              "      <th></th>\n",
              "      <th></th>\n",
              "      <th></th>\n",
              "      <th></th>\n",
              "      <th></th>\n",
              "      <th></th>\n",
              "      <th></th>\n",
              "    </tr>\n",
              "  </thead>\n",
              "  <tbody>\n",
              "    <tr>\n",
              "      <th>benign</th>\n",
              "      <td>12201203</td>\n",
              "      <td>428103</td>\n",
              "      <td>69684</td>\n",
              "      <td>322</td>\n",
              "      <td>1072</td>\n",
              "      <td>0</td>\n",
              "      <td>0</td>\n",
              "      <td>0</td>\n",
              "      <td>200383</td>\n",
              "      <td>95385</td>\n",
              "      <td>26186</td>\n",
              "      <td>206203</td>\n",
              "      <td>252</td>\n",
              "      <td>9525</td>\n",
              "      <td>25118</td>\n",
              "      <td>340257</td>\n",
              "      <td>2277</td>\n",
              "    </tr>\n",
              "    <tr>\n",
              "      <th>defacement</th>\n",
              "      <td>4339376</td>\n",
              "      <td>0</td>\n",
              "      <td>26548</td>\n",
              "      <td>49</td>\n",
              "      <td>854</td>\n",
              "      <td>0</td>\n",
              "      <td>0</td>\n",
              "      <td>0</td>\n",
              "      <td>4591</td>\n",
              "      <td>27079</td>\n",
              "      <td>44340</td>\n",
              "      <td>49185</td>\n",
              "      <td>43</td>\n",
              "      <td>680</td>\n",
              "      <td>408</td>\n",
              "      <td>81530</td>\n",
              "      <td>0</td>\n",
              "    </tr>\n",
              "    <tr>\n",
              "      <th>malware</th>\n",
              "      <td>674349</td>\n",
              "      <td>0</td>\n",
              "      <td>585</td>\n",
              "      <td>17</td>\n",
              "      <td>57</td>\n",
              "      <td>0</td>\n",
              "      <td>0</td>\n",
              "      <td>0</td>\n",
              "      <td>2782</td>\n",
              "      <td>733</td>\n",
              "      <td>1911</td>\n",
              "      <td>3664</td>\n",
              "      <td>5942</td>\n",
              "      <td>124</td>\n",
              "      <td>34</td>\n",
              "      <td>12971</td>\n",
              "      <td>0</td>\n",
              "    </tr>\n",
              "    <tr>\n",
              "      <th>phishing</th>\n",
              "      <td>1491898</td>\n",
              "      <td>0</td>\n",
              "      <td>19008</td>\n",
              "      <td>52</td>\n",
              "      <td>77</td>\n",
              "      <td>0</td>\n",
              "      <td>0</td>\n",
              "      <td>0</td>\n",
              "      <td>18215</td>\n",
              "      <td>25474</td>\n",
              "      <td>5756</td>\n",
              "      <td>30734</td>\n",
              "      <td>63</td>\n",
              "      <td>1055</td>\n",
              "      <td>6265</td>\n",
              "      <td>64832</td>\n",
              "      <td>581</td>\n",
              "    </tr>\n",
              "  </tbody>\n",
              "</table>\n",
              "</div>"
            ],
            "text/plain": [
              "            url_ext_len  is_safe  ...  includes_m  includes_shtml\n",
              "type                              ...                            \n",
              "benign         12201203   428103  ...      340257            2277\n",
              "defacement      4339376        0  ...       81530               0\n",
              "malware          674349        0  ...       12971               0\n",
              "phishing        1491898        0  ...       64832             581\n",
              "\n",
              "[4 rows x 17 columns]"
            ]
          },
          "metadata": {
            "tags": []
          },
          "execution_count": 158
        }
      ]
    },
    {
      "cell_type": "code",
      "metadata": {
        "id": "THXIrKm_6gfQ"
      },
      "source": [
        "df_for_vis_url = df_by_type.drop(labels=['url_ext_len','includes_url','includes_type',\n",
        "                                         'includes_url_ext','includes_url_ext_len','includes_is_safe'],axis=1)"
      ],
      "execution_count": null,
      "outputs": []
    },
    {
      "cell_type": "code",
      "metadata": {
        "id": "F0byDPJ793hg"
      },
      "source": [
        "def check_url(url):\n",
        "  for item in top_ten_url_ext:\n",
        "    if item in url:\n",
        "      return item\n",
        "\n",
        "\n",
        "\n",
        "df['simple_ext'] = df.url.apply(check_url)"
      ],
      "execution_count": 182,
      "outputs": []
    },
    {
      "cell_type": "code",
      "metadata": {
        "colab": {
          "base_uri": "https://localhost:8080/",
          "height": 357
        },
        "id": "g-VWkRqx_DZ9",
        "outputId": "5c80694b-1346-4717-f244-4292e926ceab"
      },
      "source": [
        "df_for_plot = df.groupby('simple_ext').is_safe.agg(['sum','count'])\n",
        "df_for_plot['unsafe'] = df_for_plot['count'] - df_for_plot['sum']\n",
        "df_for_plot"
      ],
      "execution_count": 207,
      "outputs": [
        {
          "output_type": "execute_result",
          "data": {
            "text/html": [
              "<div>\n",
              "<style scoped>\n",
              "    .dataframe tbody tr th:only-of-type {\n",
              "        vertical-align: middle;\n",
              "    }\n",
              "\n",
              "    .dataframe tbody tr th {\n",
              "        vertical-align: top;\n",
              "    }\n",
              "\n",
              "    .dataframe thead th {\n",
              "        text-align: right;\n",
              "    }\n",
              "</style>\n",
              "<table border=\"1\" class=\"dataframe\">\n",
              "  <thead>\n",
              "    <tr style=\"text-align: right;\">\n",
              "      <th></th>\n",
              "      <th>sum</th>\n",
              "      <th>count</th>\n",
              "      <th>unsafe</th>\n",
              "    </tr>\n",
              "    <tr>\n",
              "      <th>simple_ext</th>\n",
              "      <th></th>\n",
              "      <th></th>\n",
              "      <th></th>\n",
              "    </tr>\n",
              "  </thead>\n",
              "  <tbody>\n",
              "    <tr>\n",
              "      <th>aspx</th>\n",
              "      <td>2094</td>\n",
              "      <td>2559</td>\n",
              "      <td>465</td>\n",
              "    </tr>\n",
              "    <tr>\n",
              "      <th>com</th>\n",
              "      <td>7436</td>\n",
              "      <td>26861</td>\n",
              "      <td>19425</td>\n",
              "    </tr>\n",
              "    <tr>\n",
              "      <th>com/</th>\n",
              "      <td>259149</td>\n",
              "      <td>318735</td>\n",
              "      <td>59586</td>\n",
              "    </tr>\n",
              "    <tr>\n",
              "      <th>exe</th>\n",
              "      <td>90</td>\n",
              "      <td>3785</td>\n",
              "      <td>3695</td>\n",
              "    </tr>\n",
              "    <tr>\n",
              "      <th>htm</th>\n",
              "      <td>10163</td>\n",
              "      <td>13181</td>\n",
              "      <td>3018</td>\n",
              "    </tr>\n",
              "    <tr>\n",
              "      <th>html</th>\n",
              "      <td>70818</td>\n",
              "      <td>118170</td>\n",
              "      <td>47352</td>\n",
              "    </tr>\n",
              "    <tr>\n",
              "      <th>m</th>\n",
              "      <td>23561</td>\n",
              "      <td>47889</td>\n",
              "      <td>24328</td>\n",
              "    </tr>\n",
              "    <tr>\n",
              "      <th>org/</th>\n",
              "      <td>26919</td>\n",
              "      <td>30984</td>\n",
              "      <td>4065</td>\n",
              "    </tr>\n",
              "    <tr>\n",
              "      <th>php</th>\n",
              "      <td>10857</td>\n",
              "      <td>48992</td>\n",
              "      <td>38135</td>\n",
              "    </tr>\n",
              "  </tbody>\n",
              "</table>\n",
              "</div>"
            ],
            "text/plain": [
              "               sum   count  unsafe\n",
              "simple_ext                        \n",
              "aspx          2094    2559     465\n",
              "com           7436   26861   19425\n",
              "com/        259149  318735   59586\n",
              "exe             90    3785    3695\n",
              "htm          10163   13181    3018\n",
              "html         70818  118170   47352\n",
              "m            23561   47889   24328\n",
              "org/         26919   30984    4065\n",
              "php          10857   48992   38135"
            ]
          },
          "metadata": {
            "tags": []
          },
          "execution_count": 207
        }
      ]
    },
    {
      "cell_type": "code",
      "metadata": {
        "id": "mmuqszun97ge",
        "colab": {
          "base_uri": "https://localhost:8080/",
          "height": 286
        },
        "outputId": "fec40b2b-9e07-4190-f43c-a03bd12381f5"
      },
      "source": [
        "ax1 = plt.bar(df_for_plot.index,df_for_plot['sum'])\n",
        "ax1.set_label('safe')\n",
        "ax2 = plt.bar(df_for_plot.index,df_for_plot['unsafe'])\n",
        "ax2.set_label('unsafe')\n",
        "plt.legend()"
      ],
      "execution_count": 215,
      "outputs": [
        {
          "output_type": "execute_result",
          "data": {
            "text/plain": [
              "<matplotlib.legend.Legend at 0x7f65546e6b90>"
            ]
          },
          "metadata": {
            "tags": []
          },
          "execution_count": 215
        },
        {
          "output_type": "display_data",
          "data": {
            "image/png": "[encoded data removed]",
            "text/plain": [
              "<Figure size 432x288 with 1 Axes>"
            ]
          },
          "metadata": {
            "tags": []
          }
        }
      ]
    },
    {
      "cell_type": "code",
      "metadata": {
        "id": "WFhTSdz__kAY"
      },
      "source": [
        ""
      ],
      "execution_count": null,
      "outputs": []
    }
  ]
}